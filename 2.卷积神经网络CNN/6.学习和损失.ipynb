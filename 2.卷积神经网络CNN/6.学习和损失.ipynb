{
 "cells": [
  {
   "cell_type": "markdown",
   "metadata": {},
   "source": [
    "<h3 id=\"-\">学习和损失</h3>\n",
    "<p>就像当前状态的 <code>MiniFlow</code> 一样，神经网络传入输入并产生输出。但是与当前状态的 <code>MiniFlow</code> 不一样，神经网络可以逐渐<em>改善</em>其输出的准确性（很难想象 <code>Add</code> 会逐渐提高准确性！）。要理解为何准确性很重要，请首先实现一个比 <code>Add</code> 更难（也更实用）的节点。</p>\n",
    "<h3 id=\"-\">线性方程</h3>\n",
    "</div></div><span></span></div><div class=\"index--instructor-notes-container--24U8Y shared--outer-container--3eppq\"><div class=\"index--instructor-notes--39nNE layout--content--3Smmq\"><div><noscript></noscript></div></div></div></div><div class=\"index--container--2OwOl\"><div class=\"index--atom--lmAIo layout--content--3Smmq\"><div class=\"image-atom--image-atom--1XDdu\"><div class=\"index--image-atom-content--YoZVu\"><div class=\"index--image-and-annotations-container--1o6QP\"><img src=\"https://s3.cn-north-1.amazonaws.com.cn/u-img/5695ba65-af41-4c18-bc43-897e6166d129\" alt=\"\" class=\"index--image--1wh9w\" style=\"width: 560px;\"></div></div></div><span></span></div><div class=\"index--instructor-notes-container--24U8Y shared--outer-container--3eppq\"><div class=\"index--instructor-notes--39nNE layout--content--3Smmq\"><div><noscript></noscript></div></div></div></div><div class=\"index--container--2OwOl\"><div class=\"index--atom--lmAIo layout--content--3Smmq\"><div class=\"ltr\"><div class=\"ureact-markdown--markdown--3IhZa ureact-markdown \"><p>回忆下神经网络入门那部分课程。简单的人工神经元取决于以下三个组件：</p>\n",
    "<ul>\n",
    "<li>输入，<span class=\"mathquill\"><span class=\"katex\"><span class=\"katex-mathml\"><math><semantics><mrow><msub><mi>x</mi><mi>i</mi></msub></mrow><annotation encoding=\"application/x-tex\"> x_i</annotation></semantics></math></span><span class=\"katex-html\" aria-hidden=\"true\"><span class=\"strut\" style=\"height: 0.43056em;\"></span><span class=\"strut bottom\" style=\"height: 0.58056em; vertical-align: -0.15em;\"></span><span class=\"base textstyle uncramped\"><span class=\"mord\"><span class=\"mord mathit\">x</span><span class=\"vlist\"><span class=\"\" style=\"top: 0.15em; margin-right: 0.05em; margin-left: 0em;\"><span class=\"fontsize-ensurer reset-size5 size5\"><span class=\"\" style=\"font-size: 0em;\">&#8203;</span></span><span class=\"reset-textstyle scriptstyle cramped\"><span class=\"mord mathit\">i</span></span></span><span class=\"baseline-fix\"><span class=\"fontsize-ensurer reset-size5 size5\"><span class=\"\" style=\"font-size: 0em;\">&#8203;</span></span>&#8203;</span></span></span></span></span></span></span></li>\n",
    "<li>权重，<span class=\"mathquill\"><span class=\"katex\"><span class=\"katex-mathml\"><math><semantics><mrow><msub><mi>w</mi><mi>i</mi></msub></mrow><annotation encoding=\"application/x-tex\"> w_i</annotation></semantics></math></span><span class=\"katex-html\" aria-hidden=\"true\"><span class=\"strut\" style=\"height: 0.43056em;\"></span><span class=\"strut bottom\" style=\"height: 0.58056em; vertical-align: -0.15em;\"></span><span class=\"base textstyle uncramped\"><span class=\"mord\"><span class=\"mord mathit\" style=\"margin-right: 0.02691em;\">w</span><span class=\"vlist\"><span class=\"\" style=\"top: 0.15em; margin-right: 0.05em; margin-left: -0.02691em;\"><span class=\"fontsize-ensurer reset-size5 size5\"><span class=\"\" style=\"font-size: 0em;\">&#8203;</span></span><span class=\"reset-textstyle scriptstyle cramped\"><span class=\"mord mathit\">i</span></span></span><span class=\"baseline-fix\"><span class=\"fontsize-ensurer reset-size5 size5\"><span class=\"\" style=\"font-size: 0em;\">&#8203;</span></span>&#8203;</span></span></span></span></span></span></span> </li>\n",
    "<li>偏置，<span class=\"mathquill\"><span class=\"katex\"><span class=\"katex-mathml\"><math><semantics><mrow><mi>b</mi></mrow><annotation encoding=\"application/x-tex\"> b </annotation></semantics></math></span><span class=\"katex-html\" aria-hidden=\"true\"><span class=\"strut\" style=\"height: 0.69444em;\"></span><span class=\"strut bottom\" style=\"height: 0.69444em; vertical-align: 0em;\"></span><span class=\"base textstyle uncramped\"><span class=\"mord mathit\">b</span></span></span></span></span></li>\n",
    "</ul>\n",
    "<p>输出 <span class=\"mathquill\"><span class=\"katex\"><span class=\"katex-mathml\"><math><semantics><mrow><mi>y</mi></mrow><annotation encoding=\"application/x-tex\">y</annotation></semantics></math></span><span class=\"katex-html\" aria-hidden=\"true\"><span class=\"strut\" style=\"height: 0.43056em;\"></span><span class=\"strut bottom\" style=\"height: 0.625em; vertical-align: -0.19444em;\"></span><span class=\"base textstyle uncramped\"><span class=\"mord mathit\" style=\"margin-right: 0.03588em;\">y</span></span></span></span></span> 就是输入加上偏置的加权和。</p>\n",
    "</div></div><span></span></div><div class=\"index--instructor-notes-container--24U8Y shared--outer-container--3eppq\"><div class=\"index--instructor-notes--39nNE layout--content--3Smmq\"><div><noscript></noscript></div></div></div></div><div class=\"index--container--2OwOl\"><div class=\"index--atom--lmAIo layout--content--3Smmq\"><div class=\"ltr\"><div class=\"ureact-markdown--markdown--3IhZa ureact-markdown \"><p>注意，通过更改权重，你可以更改任何给定输入对输出带来的影响。神经网络的学习流程发生在反向传播过程中。在反向传播中，网络会修改权重，以改善网络的输出准确性。你很快将应用所有这些知识。</p>\n",
    "<p>在下个测验中，你将构建一个线性神经元，该神经元通过应用简化的加权和生成输出。<code>Linear</code> 应该传入长为 <em>n</em> 的传入节点列表、长度为 <em>n</em> 的权重列表和偏置。</p>\n",
    "<h3 id=\"-\">说明</h3>\n",
    "<ol>\n",
    "<li>打开下面的 nn.py。通读该神经网络，看看 <code>Linear</code> 的预期输出结果。</li>\n",
    "<li>打开下面的 miniflow.py。修改 <code>Linear</code>（<code>Node</code> 的子类）以生成一个输出：<span class=\"mathquill\"><span class=\"katex\"><span class=\"katex-mathml\"><math><semantics><mrow><mi>y</mi><mo>=</mo><mo>∑</mo><msub><mi>w</mi><mi>i</mi></msub><msub><mi>x</mi><mi>i</mi></msub><mo>+</mo><mi>b</mi></mrow><annotation encoding=\"application/x-tex\"> y = \\sum w_i x_i + b</annotation></semantics></math></span><span class=\"katex-html\" aria-hidden=\"true\"><span class=\"strut\" style=\"height: 0.75em;\"></span><span class=\"strut bottom\" style=\"height: 1.00001em; vertical-align: -0.25001em;\"></span><span class=\"base textstyle uncramped\"><span class=\"mord mathit\" style=\"margin-right: 0.03588em;\">y</span><span class=\"mrel\">=</span><span class=\"op-symbol small-op mop\" style=\"top: -5e-06em;\">∑</span><span class=\"mord\"><span class=\"mord mathit\" style=\"margin-right: 0.02691em;\">w</span><span class=\"vlist\"><span class=\"\" style=\"top: 0.15em; margin-right: 0.05em; margin-left: -0.02691em;\"><span class=\"fontsize-ensurer reset-size5 size5\"><span class=\"\" style=\"font-size: 0em;\">&#8203;</span></span><span class=\"reset-textstyle scriptstyle cramped\"><span class=\"mord mathit\">i</span></span></span><span class=\"baseline-fix\"><span class=\"fontsize-ensurer reset-size5 size5\"><span class=\"\" style=\"font-size: 0em;\">&#8203;</span></span>&#8203;</span></span></span><span class=\"mord\"><span class=\"mord mathit\">x</span><span class=\"vlist\"><span class=\"\" style=\"top: 0.15em; margin-right: 0.05em; margin-left: 0em;\"><span class=\"fontsize-ensurer reset-size5 size5\"><span class=\"\" style=\"font-size: 0em;\">&#8203;</span></span><span class=\"reset-textstyle scriptstyle cramped\"><span class=\"mord mathit\">i</span></span></span><span class=\"baseline-fix\"><span class=\"fontsize-ensurer reset-size5 size5\"><span class=\"\" style=\"font-size: 0em;\">&#8203;</span></span>&#8203;</span></span></span><span class=\"mbin\">+</span><span class=\"mord mathit\">b</span></span></span></span></span>。</li>\n",
    "</ol>\n",
    "<p>（提示，你可以使用 <code>numpy</code> 解答这道测验，但是也可以直接通过 Python 解答。）</p>\n",
    "</div></div><span></span></div>\n",
    "\n"
   ]
  },
  {
   "cell_type": "code",
   "execution_count": 20,
   "metadata": {},
   "outputs": [
    {
     "name": "stdout",
     "output_type": "stream",
     "text": [
      "12.7\n"
     ]
    }
   ],
   "source": [
    "from miniflow import *\n",
    "\n",
    "inputs, weights, bias = Input(), Input(), Input()\n",
    "\n",
    "f = Linear(inputs, weights, bias)\n",
    "\n",
    "feed_dict = {\n",
    "    inputs: [6, 14, 3],\n",
    "    weights: [0.5, 0.25, 1.4],\n",
    "    bias: 2\n",
    "}\n",
    "\n",
    "graph = topological_sort(feed_dict)\n",
    "output = forward_pass(f, graph)\n",
    "\n",
    "print(output) # should be 12.7 with this example"
   ]
  },
  {
   "cell_type": "code",
   "execution_count": 21,
   "metadata": {},
   "outputs": [
    {
     "name": "stdout",
     "output_type": "stream",
     "text": [
      "a[:, np.newaxis]:\n",
      " [[  0.]\n",
      " [ 10.]\n",
      " [ 20.]\n",
      " [ 30.]] \n",
      "b:\n",
      " [ 1.  2.  3.] \n",
      "result:\n",
      " [[  1.   2.   3.]\n",
      " [ 11.  12.  13.]\n",
      " [ 21.  22.  23.]\n",
      " [ 31.  32.  33.]]\n"
     ]
    }
   ],
   "source": [
    "import numpy as np\n",
    "a = np.array([0.0, 10.0, 20.0, 30.0])\n",
    "b = np.array([1.0, 2.0, 3.0])\n",
    "result = a[:, np.newaxis] + b\n",
    "print('a[:, np.newaxis]:\\n',a[:, np.newaxis],'\\nb:\\n',b,'\\nresult:\\n',result)"
   ]
  },
  {
   "cell_type": "code",
   "execution_count": 22,
   "metadata": {},
   "outputs": [
    {
     "data": {
      "text/plain": [
       "array([[  0.],\n",
       "       [ 10.],\n",
       "       [ 20.],\n",
       "       [ 30.]])"
      ]
     },
     "execution_count": 22,
     "metadata": {},
     "output_type": "execute_result"
    }
   ],
   "source": [
    "a[:, np.newaxis]"
   ]
  },
  {
   "cell_type": "code",
   "execution_count": 23,
   "metadata": {},
   "outputs": [
    {
     "data": {
      "text/plain": [
       "array([[  0.],\n",
       "       [ 10.],\n",
       "       [ 20.],\n",
       "       [ 30.]])"
      ]
     },
     "execution_count": 23,
     "metadata": {},
     "output_type": "execute_result"
    }
   ],
   "source": [
    "a[:, None]"
   ]
  },
  {
   "cell_type": "code",
   "execution_count": 24,
   "metadata": {},
   "outputs": [
    {
     "data": {
      "text/plain": [
       "array([  0.,  10.,  20.,  30.])"
      ]
     },
     "execution_count": 24,
     "metadata": {},
     "output_type": "execute_result"
    }
   ],
   "source": [
    "a"
   ]
  },
  {
   "cell_type": "code",
   "execution_count": 25,
   "metadata": {},
   "outputs": [
    {
     "name": "stdout",
     "output_type": "stream",
     "text": [
      "True\n"
     ]
    }
   ],
   "source": [
    "print(np.newaxis==None)"
   ]
  },
  {
   "cell_type": "code",
   "execution_count": 26,
   "metadata": {
    "collapsed": true
   },
   "outputs": [],
   "source": [
    "a=np.array([[1,2],[3,4]])"
   ]
  },
  {
   "cell_type": "code",
   "execution_count": 30,
   "metadata": {},
   "outputs": [
    {
     "data": {
      "text/plain": [
       "array([[1, 2, 3, 4]])"
      ]
     },
     "execution_count": 30,
     "metadata": {},
     "output_type": "execute_result"
    }
   ],
   "source": [
    "a.reshape(1,-1)"
   ]
  },
  {
   "cell_type": "code",
   "execution_count": null,
   "metadata": {
    "collapsed": true
   },
   "outputs": [],
   "source": []
  }
 ],
 "metadata": {
  "kernelspec": {
   "display_name": "Python 3",
   "language": "python",
   "name": "python3"
  },
  "language_info": {
   "codemirror_mode": {
    "name": "ipython",
    "version": 3
   },
   "file_extension": ".py",
   "mimetype": "text/x-python",
   "name": "python",
   "nbconvert_exporter": "python",
   "pygments_lexer": "ipython3",
   "version": "3.6.1"
  }
 },
 "nbformat": 4,
 "nbformat_minor": 2
}
