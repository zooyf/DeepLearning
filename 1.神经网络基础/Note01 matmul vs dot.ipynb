{
 "cells": [
  {
   "cell_type": "markdown",
   "metadata": {},
   "source": [
    "# 相同\n",
    "\n",
    "对于1-2维矩阵，matmul和dot运算相同，均为点积"
   ]
  },
  {
   "cell_type": "code",
   "execution_count": 2,
   "metadata": {
    "collapsed": true
   },
   "outputs": [],
   "source": [
    "# 测试数据\n"
   ]
  },
  {
   "cell_type": "markdown",
   "metadata": {},
   "source": [
    "# 不同\n",
    "\n",
    "## matmul\n",
    "\n",
    "1. Multiplication by scalar is not allowed\n",
    "\n",
    " 不允许标量乘法\n",
    " \n",
    "\n",
    "2. Stacks of matrices are broadcast together as if the matrices were elements.\n",
    "\n",
    " 矩阵栈一起广播，就像矩阵是元素一样。\n",
    "\n",
    " 比如：\n",
    " 张量T_ijkl，在进行matmul时，被看成了一个矩阵M_kl，其中的每一个元素是一个矩阵K_ij"
   ]
  },
  {
   "cell_type": "markdown",
   "metadata": {},
   "source": [
    "## 对于高阶矩阵"
   ]
  },
  {
   "cell_type": "markdown",
   "metadata": {},
   "source": [
    "* matmul: 每个矩阵元做乘法\n",
    "* dot: 第一个张量的最后一个指标（axis轴）和第二个张量的倒数第二个指标的和积"
   ]
  },
  {
   "cell_type": "code",
   "execution_count": null,
   "metadata": {
    "collapsed": true
   },
   "outputs": [],
   "source": [
    "# 1.matmul不允许标量乘法"
   ]
  },
  {
   "cell_type": "code",
   "execution_count": null,
   "metadata": {
    "collapsed": true
   },
   "outputs": [],
   "source": [
    "# 高阶矩阵"
   ]
  }
 ],
 "metadata": {
  "kernelspec": {
   "display_name": "Python 2",
   "language": "python",
   "name": "python2"
  },
  "language_info": {
   "codemirror_mode": {
    "name": "ipython",
    "version": 2
   },
   "file_extension": ".py",
   "mimetype": "text/x-python",
   "name": "python",
   "nbconvert_exporter": "python",
   "pygments_lexer": "ipython2",
   "version": "2.7.13"
  }
 },
 "nbformat": 4,
 "nbformat_minor": 2
}
